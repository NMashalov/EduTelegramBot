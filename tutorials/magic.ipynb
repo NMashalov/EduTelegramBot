{
 "cells": [
  {
   "cell_type": "code",
   "execution_count": 6,
   "metadata": {},
   "outputs": [],
   "source": [
    "def hello(**kwargs):\n",
    "    print('hello')\n",
    "    print(kwargs)"
   ]
  },
  {
   "cell_type": "code",
   "execution_count": 65,
   "metadata": {},
   "outputs": [],
   "source": [
    "\n",
    "from typing import Optional\n",
    "from functools import partial\n",
    "class TelegramMethodJob:\n",
    "    _bot = None\n",
    "\n",
    "    def __init__(self,method):\n",
    "        self.method = method\n",
    "\n",
    "    def __call__(self,*args,**kwrags):\n",
    "        self.method(*args,bot=TelegramMethodJob._bot,**kwrags)\n",
    "\n",
    "    @classmethod\n",
    "    def set_bot(cls, bot):\n",
    "        cls._bot = bot"
   ]
  },
  {
   "cell_type": "code",
   "execution_count": 69,
   "metadata": {},
   "outputs": [
    {
     "data": {
      "text/plain": [
       "5"
      ]
     },
     "execution_count": 69,
     "metadata": {},
     "output_type": "execute_result"
    }
   ],
   "source": [
    "def sum(a,b):\n",
    "    return a +b*2\n",
    "partial(sum,1)(2)"
   ]
  },
  {
   "cell_type": "code",
   "execution_count": 67,
   "metadata": {},
   "outputs": [
    {
     "name": "stdout",
     "output_type": "stream",
     "text": [
      "hello None\n"
     ]
    }
   ],
   "source": [
    "def hello(bot,a):\n",
    "    print('hello %s' % bot)\n",
    "\n",
    "TelegramMethodJob(hello)(a=5)"
   ]
  },
  {
   "cell_type": "code",
   "execution_count": 7,
   "metadata": {},
   "outputs": [
    {
     "name": "stdout",
     "output_type": "stream",
     "text": [
      "hello\n",
      "{'a': 1, 'b': 2}\n"
     ]
    }
   ],
   "source": [
    "hello(a=1,b=2)"
   ]
  },
  {
   "cell_type": "code",
   "execution_count": 22,
   "metadata": {},
   "outputs": [],
   "source": [
    "def decorate_with_value(**kwargs):\n",
    "    hidden_dict = {\n",
    "        \"fish\" : 5,\n",
    "        **kwargs\n",
    "    }\n",
    "    def inner(func):\n",
    "        def wrapper(*args,**kwargs):\n",
    "            func(*args,**{**kwargs, **hidden_dict})\n",
    "        return wrapper\n",
    "    return inner"
   ]
  },
  {
   "cell_type": "code",
   "execution_count": 23,
   "metadata": {},
   "outputs": [
    {
     "ename": "TypeError",
     "evalue": "hello() got an unexpected keyword argument 'fish'",
     "output_type": "error",
     "traceback": [
      "\u001b[0;31m---------------------------------------------------------------------------\u001b[0m",
      "\u001b[0;31mTypeError\u001b[0m                                 Traceback (most recent call last)",
      "\u001b[1;32m/home/nikita/edu_telegram_bot/tutorials/magic.ipynb Cell 4\u001b[0m line \u001b[0;36m5\n\u001b[1;32m      <a href='vscode-notebook-cell://wsl%2Bubuntu-20.04/home/nikita/edu_telegram_bot/tutorials/magic.ipynb#W4sdnNjb2RlLXJlbW90ZQ%3D%3D?line=0'>1</a>\u001b[0m \u001b[39m@decorate_with_value\u001b[39m()\n\u001b[1;32m      <a href='vscode-notebook-cell://wsl%2Bubuntu-20.04/home/nikita/edu_telegram_bot/tutorials/magic.ipynb#W4sdnNjb2RlLXJlbW90ZQ%3D%3D?line=1'>2</a>\u001b[0m \u001b[39mdef\u001b[39;00m \u001b[39mhello\u001b[39m():\n\u001b[1;32m      <a href='vscode-notebook-cell://wsl%2Bubuntu-20.04/home/nikita/edu_telegram_bot/tutorials/magic.ipynb#W4sdnNjb2RlLXJlbW90ZQ%3D%3D?line=2'>3</a>\u001b[0m     \u001b[39mprint\u001b[39m(\u001b[39m'\u001b[39m\u001b[39mhello\u001b[39m\u001b[39m'\u001b[39m)\n\u001b[0;32m----> <a href='vscode-notebook-cell://wsl%2Bubuntu-20.04/home/nikita/edu_telegram_bot/tutorials/magic.ipynb#W4sdnNjb2RlLXJlbW90ZQ%3D%3D?line=4'>5</a>\u001b[0m hello()\n",
      "\u001b[1;32m/home/nikita/edu_telegram_bot/tutorials/magic.ipynb Cell 4\u001b[0m line \u001b[0;36m8\n\u001b[1;32m      <a href='vscode-notebook-cell://wsl%2Bubuntu-20.04/home/nikita/edu_telegram_bot/tutorials/magic.ipynb#W4sdnNjb2RlLXJlbW90ZQ%3D%3D?line=6'>7</a>\u001b[0m \u001b[39mdef\u001b[39;00m \u001b[39mwrapper\u001b[39m(\u001b[39m*\u001b[39margs,\u001b[39m*\u001b[39m\u001b[39m*\u001b[39mkwargs):\n\u001b[0;32m----> <a href='vscode-notebook-cell://wsl%2Bubuntu-20.04/home/nikita/edu_telegram_bot/tutorials/magic.ipynb#W4sdnNjb2RlLXJlbW90ZQ%3D%3D?line=7'>8</a>\u001b[0m     func(\u001b[39m*\u001b[39;49margs,\u001b[39m*\u001b[39;49m\u001b[39m*\u001b[39;49m{\u001b[39m*\u001b[39;49m\u001b[39m*\u001b[39;49mkwargs, \u001b[39m*\u001b[39;49m\u001b[39m*\u001b[39;49mhidden_dict})\n",
      "\u001b[0;31mTypeError\u001b[0m: hello() got an unexpected keyword argument 'fish'"
     ]
    }
   ],
   "source": [
    "@decorate_with_value()\n",
    "def hello():\n",
    "    print('hello')\n",
    "\n",
    "hello()"
   ]
  },
  {
   "cell_type": "code",
   "execution_count": 2,
   "metadata": {},
   "outputs": [],
   "source": [
    "hello.hello = 1"
   ]
  },
  {
   "cell_type": "code",
   "execution_count": 27,
   "metadata": {},
   "outputs": [
    {
     "name": "stdout",
     "output_type": "stream",
     "text": [
      "Works! - Hello!\n"
     ]
    }
   ],
   "source": [
    "import inspect\n",
    "\n",
    "def decorate(func):\n",
    "    def wrap_and_call(*args, **kwargs):\n",
    "        if 'str' in inspect.getfullargspec(func).args:\n",
    "            kwargs['str'] = 'Hello!'\n",
    "        return func(*args, **kwargs)\n",
    "    return wrap_and_call\n",
    "\n",
    "@decorate\n",
    "def func1(str):\n",
    "    print(\"Works! - \" + str)\n",
    "\n",
    "@decorate\n",
    "def func2():\n",
    "    print(\"Should work, also.\")\n",
    "\n",
    "func1()"
   ]
  },
  {
   "cell_type": "code",
   "execution_count": 3,
   "metadata": {},
   "outputs": [
    {
     "name": "stdout",
     "output_type": "stream",
     "text": [
      "1\n"
     ]
    }
   ],
   "source": [
    "print(hello.hello)"
   ]
  },
  {
   "cell_type": "code",
   "execution_count": 30,
   "metadata": {},
   "outputs": [
    {
     "name": "stdout",
     "output_type": "stream",
     "text": [
      "spam\n",
      "ham\n"
     ]
    }
   ],
   "source": [
    "from contextvars import ContextVar, copy_context\n",
    "var = ContextVar('var')\n",
    "var.set('spam')\n",
    "\n",
    "def main():\n",
    "    # 'var' was set to 'spam' before\n",
    "    # calling 'copy_context()' and 'ctx.run(main)', so:\n",
    "    # var.get() == ctx[var] == 'spam'\n",
    "\n",
    "    var.set('ham')\n",
    "\n",
    "    # Now, after setting 'var' to 'ham':\n",
    "    # var.get() == ctx[var] == 'ham'\n",
    "\n",
    "ctx = copy_context()\n",
    "print(ctx[var])\n",
    "ctx.run(main)\n",
    "print(ctx[var])"
   ]
  }
 ],
 "metadata": {
  "kernelspec": {
   "display_name": "base",
   "language": "python",
   "name": "python3"
  },
  "language_info": {
   "codemirror_mode": {
    "name": "ipython",
    "version": 3
   },
   "file_extension": ".py",
   "mimetype": "text/x-python",
   "name": "python",
   "nbconvert_exporter": "python",
   "pygments_lexer": "ipython3",
   "version": "3.11.4"
  },
  "orig_nbformat": 4
 },
 "nbformat": 4,
 "nbformat_minor": 2
}
