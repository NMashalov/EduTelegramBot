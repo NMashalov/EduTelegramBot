{
 "cells": [
  {
   "cell_type": "markdown",
   "metadata": {},
   "source": [
    "SqlAlchemy helps to proceed logic of data manipulation \n",
    "when we handle interaction with user\n",
    "\n",
    "\n",
    "\n",
    "We have three main points\n",
    "\n",
    "\n",
    "![Illustration](.excalidraw.png)\n",
    "\n",
    "\n",
    "\n",
    "\n"
   ]
  },
  {
   "cell_type": "code",
   "execution_count": 24,
   "metadata": {},
   "outputs": [
    {
     "data": {
      "text/plain": [
       "set()"
      ]
     },
     "execution_count": 24,
     "metadata": {},
     "output_type": "execute_result"
    }
   ],
   "source": [
    "from reprlib import Repr as _Repr\n",
    "\n",
    "set(getattr(_Repr, '__repr_blacklist__', set()))"
   ]
  },
  {
   "cell_type": "code",
   "execution_count": 30,
   "metadata": {},
   "outputs": [],
   "source": [
    "from typing import Optional, List\n",
    "from sqlalchemy import ForeignKey\n",
    "from sqlalchemy.orm import Mapped, mapped_column,declarative_base\n",
    "from sqlalchemy.orm import relationship, backref\n",
    "from datetime import datetime\n",
    "from sqlalchemy_repr import RepresentableBase\n",
    "\n",
    "Base = declarative_base(cls=RepresentableBase)\n",
    "\n",
    "\n",
    "\n",
    "class User(Base):\n",
    "    __tablename__ = \"user\"\n",
    "\n",
    "    id: Mapped[int]= mapped_column(primary_key=True)\n",
    "    name: Mapped[str] \n",
    "    mipt_mail: Mapped[Optional[str]] = mapped_column(default='')\n",
    "    auth: Mapped[Optional[bool]]  = mapped_column(default=False)\n",
    "    admin: Mapped[Optional[bool]] = mapped_column(default=False)\n",
    "    homeworks: Mapped[List[\"UserHomeworkResult\"]] = relationship(backref=backref('user'),cascade='all, delete-orphan')\n",
    "    entrance_dttm: Mapped[datetime] = mapped_column(default=datetime.now())\n",
    "    valid_from_dttm: Mapped[datetime] = mapped_column(default=datetime.now(),onupdate=datetime.now)\n",
    "\n",
    "    # def __repr__(self):\n",
    "    #     return pprint(self.__dict__) \n",
    "\n",
    "class Homework(Base):\n",
    "    __tablename__ = 'homework'\n",
    "\n",
    "    id: Mapped[int] = mapped_column(primary_key = True) \n",
    "    week: Mapped[int]\n",
    "    description: Mapped[Optional[str]]\n",
    "    homework_link: Mapped[Optional[str]]\n",
    "    valid_from_dttm: Mapped[datetime] = mapped_column(default=datetime.now(),onupdate=datetime.now)\n",
    "\n",
    "    # def __repr__(self):\n",
    "    #     return (\n",
    "    #         f'Homework id: {self.id}'\n",
    "    #         f'Week: {self.week}'\n",
    "    #         f'Description: {self.description}'\n",
    "    #         f'Homework Link: {self.homework_link}'\n",
    "    #         f'Valid_from_dttm: {self.valid_from_dttm}'\n",
    "    #     )\n",
    "\n",
    "\n",
    "class UserHomeworkResult(Base):\n",
    "    __tablename__ = 'homework_results'\n",
    " \n",
    "    id: Mapped[int] = mapped_column(primary_key = True) \n",
    "    homework_id : Mapped[int] = mapped_column(ForeignKey(\"homework.id\")) \n",
    "    user_id: Mapped[int] = mapped_column(ForeignKey(\"user.id\")) \n",
    "    student_homework_link: Mapped[Optional[str]]\n",
    "    result: Mapped[int] = mapped_column(default=0)\n",
    "    valid_from_dttm: Mapped[datetime] = mapped_column(default=datetime.now(),onupdate=datetime.now)\n",
    "    homework: Mapped[\"Homework\"] = relationship(backref='results')\n",
    "\n",
    "\n",
    "    # def __repr__(self):\n",
    "    #     return (\n",
    "    #         f'Homework id: {self.homework_id}'\n",
    "    #         f'User id: {self.user_id}'\n",
    "    #         f'student_homework_link: {self.student_homework_link}'\n",
    "    #         f'result: {self.result}'\n",
    "    #         f'Valid_from_dttm: {self.valid_from_dttm}'\n",
    "    #         f'Homework :{self.homework}'\n",
    "    #     )\n"
   ]
  },
  {
   "cell_type": "code",
   "execution_count": 31,
   "metadata": {},
   "outputs": [],
   "source": [
    "from sqlalchemy import create_engine\n",
    "from sqlalchemy.orm import sessionmaker\n",
    "# база будет создана в памяти\n",
    "engine = create_engine('sqlite://')\n",
    "Base.metadata.create_all(engine)\n"
   ]
  },
  {
   "cell_type": "code",
   "execution_count": 32,
   "metadata": {},
   "outputs": [],
   "source": [
    "from sqlalchemy.orm import Session\n",
    "\n",
    "# add_homework\n",
    "\n",
    "with Session(engine) as session:\n",
    "    hw1 = Homework(\n",
    "        week = 1,\n",
    "        description = 'Работа с SQlAlchemy',\n",
    "        homework_link = 'github.com'\n",
    "    )\n",
    "    hw2 = Homework(\n",
    "        week = 2,\n",
    "        description = 'Продвинутая работа с SQlAlchemy',\n",
    "        homework_link = 'github2.com'\n",
    "    )\n",
    "\n",
    "    session.add_all([hw1,hw2])\n",
    "    \n",
    "    session.commit()"
   ]
  },
  {
   "cell_type": "code",
   "execution_count": 33,
   "metadata": {},
   "outputs": [
    {
     "name": "stdout",
     "output_type": "stream",
     "text": [
      "<Homework id=1, week=1, description='Работа с SQlAlchemy', homework_link='github.com', valid_from_dttm='2023-09-26T22:34:52.395110'>\n",
      "<Homework id=2, week=2, description='Продвинутая работа с SQlAlchemy', homework_link='github2.com', valid_from_dttm='2023-09-26T22:34:52.395110'>\n"
     ]
    }
   ],
   "source": [
    "from sqlalchemy import select\n",
    "with Session(engine) as session:\n",
    "    stmt = select(Homework)\n",
    "    for ent in session.execute(stmt).scalars():\n",
    "        print(ent)"
   ]
  },
  {
   "cell_type": "code",
   "execution_count": 34,
   "metadata": {},
   "outputs": [
    {
     "name": "stderr",
     "output_type": "stream",
     "text": [
      "/tmp/ipykernel_153562/209486939.py:7: SAWarning: Object of type <UserHomeworkResult> not in session, add operation along 'Homework.results' will not proceed (This warning originated from the Session 'autoflush' process, which was invoked automatically in response to a user-initiated operation.)\n",
      "  session.merge(new_user)\n"
     ]
    }
   ],
   "source": [
    "from sqlalchemy import select\n",
    "with Session(engine) as session:\n",
    "    stmt = select(Homework)\n",
    "    homeworks = session.execute(stmt).scalars()\n",
    "    new_user = User(id=1,name='Nikita')\n",
    "    new_user.homeworks = [UserHomeworkResult(homework=hw) for hw in homeworks] \n",
    "    session.merge(new_user)\n",
    "    session.commit()"
   ]
  },
  {
   "cell_type": "code",
   "execution_count": 45,
   "metadata": {},
   "outputs": [],
   "source": [
    "from sqlalchemy import select\n",
    "with Session(engine) as session:\n",
    "    stmt = select(Homework)\n",
    "    homeworks = session.execute(stmt).scalars()\n",
    "    new_user = User(id=1,name='Misha12')\n",
    "    session.merge(new_user)\n",
    "    session.commit()"
   ]
  },
  {
   "cell_type": "code",
   "execution_count": 46,
   "metadata": {},
   "outputs": [
    {
     "name": "stdout",
     "output_type": "stream",
     "text": [
      "<User id=1, name='Misha12', mipt_mail='', auth=False, admin=False, entrance_dttm='2023-09-26T22:34:52.392912', valid_from_dttm='2023-09-26T22:36:02.187492'>\n"
     ]
    }
   ],
   "source": [
    "with Session(engine) as session:\n",
    "    stmt = select(User).where(User.id == 1)\n",
    "    user: User = session.execute(stmt).scalars().first()\n",
    "    print(user)"
   ]
  },
  {
   "cell_type": "code",
   "execution_count": 8,
   "metadata": {},
   "outputs": [
    {
     "name": "stdout",
     "output_type": "stream",
     "text": [
      "Telegram id: 1Name: NikitaMipt_mail: \n",
      "Homework id: 1User id: 1student_homework_link: Noneresult: 0Valid_from_dttm: 2023-09-24 21:27:37.212283Homework :Homework id: 1Week: 1Description: Работа с SQlAlchemyHomework Link: github.com\n",
      "Homework id: 2User id: 1student_homework_link: Noneresult: 0Valid_from_dttm: 2023-09-24 21:27:37.212283Homework :Homework id: 2Week: 2Description: Продвинутая работа с SQlAlchemyHomework Link: github2.com\n"
     ]
    }
   ],
   "source": [
    "from sqlalchemy import select\n",
    "with Session(engine) as session:\n",
    "    stmt = select(User).where(User.id == 2)\n",
    "    user: User = session.execute(stmt).scalars().first()\n",
    "    print(user)\n",
    "    for hw in user.homeworks:\n",
    "        print(hw)\n",
    "    user.homeworks = [user.homeworks[0]]\n",
    "    session.merge(user)\n",
    "    session.commit()"
   ]
  },
  {
   "cell_type": "code",
   "execution_count": 12,
   "metadata": {},
   "outputs": [
    {
     "name": "stdout",
     "output_type": "stream",
     "text": [
      "[Homework id: 1User id: 1student_homework_link: Noneresult: 0Valid_from_dttm: 2023-09-24 21:27:37.212283Homework :Homework id: 1Week: 1Description: Работа с SQlAlchemyHomework Link: github.com]\n"
     ]
    }
   ],
   "source": [
    "with Session(engine) as session:\n",
    "    stmt = select(User).where(User.id == 1)\n",
    "    user: User = session.execute(stmt).scalars().first()\n",
    "    print(user.homeworks)"
   ]
  }
 ],
 "metadata": {
  "kernelspec": {
   "display_name": "Python 3",
   "language": "python",
   "name": "python3"
  },
  "language_info": {
   "codemirror_mode": {
    "name": "ipython",
    "version": 3
   },
   "file_extension": ".py",
   "mimetype": "text/x-python",
   "name": "python",
   "nbconvert_exporter": "python",
   "pygments_lexer": "ipython3",
   "version": "3.11.4"
  },
  "orig_nbformat": 4
 },
 "nbformat": 4,
 "nbformat_minor": 2
}
