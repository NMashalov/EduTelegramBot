{
 "cells": [
  {
   "cell_type": "code",
   "execution_count": 1,
   "metadata": {},
   "outputs": [],
   "source": [
    "from typing import Optional\n",
    "from sqlalchemy import ForeignKey\n",
    "from sqlalchemy.orm import Mapped, mapped_column,declarative_base\n",
    "from sqlalchemy import DateTime\n",
    "from sqlalchemy.orm import relationship\n",
    "from datetime import datetime\n",
    "\n",
    "Base = declarative_base()\n",
    "\n",
    "class User(Base):\n",
    "    __tablename__ = \"user\"\n",
    "\n",
    "    id: Mapped[int]= mapped_column(primary_key=True)\n",
    "    name: Mapped[str] \n",
    "    mipt_mail: Mapped[str] = mapped_column(default='') \n",
    "    admin: Mapped[bool] = mapped_column(server_default=\"False\")\n",
    "\n",
    "class Homework(Base):\n",
    "    __tablename__ = 'homework'\n",
    "    id: Mapped[int] = mapped_column(primary_key = True) \n",
    "    week: Mapped[int]\n",
    "    description: Mapped[str]\n",
    "    homework_link: Mapped[str]\n",
    "\n",
    "\n",
    "class UserHomeworkResults(Base):\n",
    "    __tablename__ = 'homework_results'\n",
    " \n",
    "    id: Mapped[int] = mapped_column(primary_key = True) \n",
    "    homework_id : Mapped[int] = mapped_column(ForeignKey(\"homework.id\")) \n",
    "    user_id: Mapped[int] = mapped_column(ForeignKey(\"user.id\")) \n",
    "    student_homework_link: Mapped[str]\n",
    "    result: Mapped[int]\n",
    "    valid_from_dttm: Mapped[datetime]\n",
    "    user: Mapped[\"User\"] = relationship(backref=\"user_homework_results\")\n",
    "    homework: Mapped[\"Homework\"] = relationship()\n"
   ]
  },
  {
   "cell_type": "code",
   "execution_count": 2,
   "metadata": {},
   "outputs": [],
   "source": [
    "from sqlalchemy import create_engine\n",
    "# база будет создана в памяти\n",
    "engine = create_engine('sqlite://')\n",
    "Base.metadata.create_all(engine)"
   ]
  },
  {
   "cell_type": "code",
   "execution_count": 3,
   "metadata": {},
   "outputs": [],
   "source": [
    "from sqlalchemy.orm import sessionmaker"
   ]
  },
  {
   "cell_type": "code",
   "execution_count": 4,
   "metadata": {},
   "outputs": [],
   "source": [
    "session = sessionmaker(bind=engine)()"
   ]
  },
  {
   "cell_type": "code",
   "execution_count": null,
   "metadata": {},
   "outputs": [],
   "source": []
  },
  {
   "cell_type": "code",
   "execution_count": 5,
   "metadata": {},
   "outputs": [],
   "source": [
    "from sqlalchemy.orm import Session\n",
    "\n",
    "# add_homework\n",
    "\n",
    "with Session(engine) as session:\n",
    "    hw1 = Homework(\n",
    "        week = 1,\n",
    "        description = 'Работа с SQlAlchemy',\n",
    "        homework_link = 'github.com'\n",
    "    )\n",
    "    hw2 = Homework(\n",
    "        week = 2,\n",
    "        description = 'Продвинутая работа с SQlAlchemy',\n",
    "        homework_link = 'github2.com'\n",
    "    )\n",
    "\n",
    "    session.add_all([hw1,hw2])\n",
    "    \n",
    "    session.commit()"
   ]
  },
  {
   "cell_type": "code",
   "execution_count": 16,
   "metadata": {},
   "outputs": [
    {
     "name": "stdout",
     "output_type": "stream",
     "text": [
      "Работа с SQlAlchemy\n",
      "Продвинутая работа с SQlAlchemy\n"
     ]
    }
   ],
   "source": [
    "from sqlalchemy import select\n",
    "with Session(engine) as session:\n",
    "    stmt = select(Homework)\n",
    "    for ent in session.execute(stmt).scalars():\n",
    "        print(ent.description)"
   ]
  },
  {
   "cell_type": "code",
   "execution_count": null,
   "metadata": {},
   "outputs": [],
   "source": [
    "акщ"
   ]
  }
 ],
 "metadata": {
  "kernelspec": {
   "display_name": "Python 3",
   "language": "python",
   "name": "python3"
  },
  "language_info": {
   "codemirror_mode": {
    "name": "ipython",
    "version": 3
   },
   "file_extension": ".py",
   "mimetype": "text/x-python",
   "name": "python",
   "nbconvert_exporter": "python",
   "pygments_lexer": "ipython3",
   "version": "3.11.4"
  },
  "orig_nbformat": 4
 },
 "nbformat": 4,
 "nbformat_minor": 2
}
