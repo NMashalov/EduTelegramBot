{
 "cells": [
  {
   "cell_type": "code",
   "execution_count": 12,
   "metadata": {},
   "outputs": [
    {
     "name": "stdout",
     "output_type": "stream",
     "text": [
      "Press Ctrl+C to exit\n",
      "Some bot work\n",
      "Tick nikita! The time is: 2023-09-25 00:30:20.232037\n",
      "Some bot work\n",
      "Tick nikita! The time is: 2023-09-25 00:30:23.233661\n",
      "Some bot work\n",
      "Some bot work\n",
      "Tick nikita! The time is: 2023-09-25 00:30:26.233196\n",
      "Some bot work\n",
      "Tick nikita! The time is: 2023-09-25 00:30:29.232952\n",
      "Some bot work\n",
      "Some bot work\n",
      "Tick nikita! The time is: 2023-09-25 00:30:32.232991\n",
      "Some bot work\n",
      "Tick nikita! The time is: 2023-09-25 00:30:35.230489\n",
      "Some bot work\n"
     ]
    }
   ],
   "source": [
    "from datetime import datetime\n",
    "import time\n",
    "import os\n",
    "\n",
    "from apscheduler.schedulers.background import BackgroundScheduler\n",
    "\n",
    "class tick:\n",
    "    def __init__(self, name):\n",
    "        self.name = name \n",
    "    def hello(self):\n",
    "        print('Tick %s! The time is: %s' % (self.name, datetime.now()))\n",
    "    \n",
    "\n",
    "\n",
    "if __name__ == '__main__':\n",
    "    scheduler = BackgroundScheduler()\n",
    "    scheduler.add_job(tick('nikita').hello, 'interval', seconds=3)\n",
    "    scheduler.start()\n",
    "    print('Press Ctrl+{0} to exit'.format('Break' if os.name == 'nt' else 'C'))\n",
    "\n",
    "    try:\n",
    "        # This is here to simulate application activity (which keeps the main thread alive).\n",
    "        while True:\n",
    "            time.sleep(2)\n",
    "            print('Some bot work')\n",
    "    except (KeyboardInterrupt, SystemExit):\n",
    "        # Not strictly necessary if daemonic mode is enabled but should be done if possible\n",
    "        scheduler.shutdown()"
   ]
  }
 ],
 "metadata": {
  "kernelspec": {
   "display_name": "base",
   "language": "python",
   "name": "python3"
  },
  "language_info": {
   "codemirror_mode": {
    "name": "ipython",
    "version": 3
   },
   "file_extension": ".py",
   "mimetype": "text/x-python",
   "name": "python",
   "nbconvert_exporter": "python",
   "pygments_lexer": "ipython3",
   "version": "3.11.4"
  },
  "orig_nbformat": 4
 },
 "nbformat": 4,
 "nbformat_minor": 2
}
